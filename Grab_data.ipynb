{
 "cells": [
  {
   "cell_type": "code",
   "execution_count": 6,
   "id": "099fd1f5-2799-4767-a73a-2b558cecbc67",
   "metadata": {},
   "outputs": [],
   "source": [
    "from pprint import pprint\n",
    "from fake_useragent import UserAgent\n",
    "import import_ipynb\n",
    "from client import PriceHistory"
   ]
  },
  {
   "cell_type": "code",
   "execution_count": 7,
   "id": "18ec16a8-f462-4b82-a606-5aaac17000fa",
   "metadata": {},
   "outputs": [],
   "source": [
    "# Intialize the client\n",
    "price_history_client = PriceHistory(\n",
    "    symbols = ['AAPL', \"MSFT\", \"SQ\"],\n",
    "    user_agent= UserAgent().chrome\n",
    ")"
   ]
  },
  {
   "cell_type": "code",
   "execution_count": 11,
   "id": "8aa8eacd-98ee-435c-8f67-449da503a7f4",
   "metadata": {},
   "outputs": [
    {
     "name": "stdout",
     "output_type": "stream",
     "text": [
      "          date   close    volume     open      high       low symbol\n",
      "0   2024-05-10   71.31   5714214   73.660   73.9994   70.7200     SQ\n",
      "1   2024-05-09   73.20   4862356   71.440   73.3100   70.7157     SQ\n",
      "2   2024-05-08   71.14   5927585   70.590   72.0500   70.5350     SQ\n",
      "3   2024-05-07   71.60   6609829   73.110   73.6000   71.4000     SQ\n",
      "4   2024-05-06   73.53  11675490   70.240   73.5500   70.1100     SQ\n",
      "..         ...     ...       ...      ...       ...       ...    ...\n",
      "367 2023-11-17  189.69  50941400  190.250  190.3800  188.5700   AAPL\n",
      "368 2023-11-16  189.71  54412920  189.570  190.9600  188.6500   AAPL\n",
      "369 2023-11-15  188.01  53790500  187.845  189.5000  187.7800   AAPL\n",
      "370 2023-11-14  187.44  60108380  187.700  188.1100  186.3000   AAPL\n",
      "371 2023-11-13  184.80  43627520  185.820  186.0300  184.2100   AAPL\n",
      "\n",
      "[372 rows x 7 columns]\n"
     ]
    }
   ],
   "source": [
    "# Get in csv file\n",
    "price_history_client.price_data_frame.to_csv(\n",
    "    r\"D:/summer-2024/stock_data.csv\",\n",
    "    index = False\n",
    ")\n",
    "\n",
    "pprint(price_history_client.price_data_frame)"
   ]
  },
  {
   "cell_type": "code",
   "execution_count": 12,
   "id": "d8114fef-1549-4fa1-9e96-48c4eef73e0e",
   "metadata": {},
   "outputs": [],
   "source": [
    "price_data_frame = price_history_client.price_data_frame"
   ]
  },
  {
   "cell_type": "code",
   "execution_count": null,
   "id": "b908c069-3770-4d83-b904-b00da3c5589e",
   "metadata": {},
   "outputs": [],
   "source": []
  },
  {
   "cell_type": "code",
   "execution_count": null,
   "id": "946cc3a7-d0d9-4041-83d8-9018a74231db",
   "metadata": {},
   "outputs": [],
   "source": []
  }
 ],
 "metadata": {
  "kernelspec": {
   "display_name": "Python 3 (ipykernel)",
   "language": "python",
   "name": "python3"
  },
  "language_info": {
   "codemirror_mode": {
    "name": "ipython",
    "version": 3
   },
   "file_extension": ".py",
   "mimetype": "text/x-python",
   "name": "python",
   "nbconvert_exporter": "python",
   "pygments_lexer": "ipython3",
   "version": "3.11.8"
  }
 },
 "nbformat": 4,
 "nbformat_minor": 5
}
