{
 "cells": [
  {
   "cell_type": "code",
   "execution_count": 2,
   "id": "c27b9949-f7c9-4be2-8662-f4aa75764d4d",
   "metadata": {},
   "outputs": [],
   "source": [
    "import yfinance as yf\n",
    "from typing import List, Dict\n",
    "import pandas as pd\n",
    "from pprint import pprint\n",
    "from datetime import datetime, timedelta"
   ]
  },
  {
   "cell_type": "code",
   "execution_count": 3,
   "id": "d086597b-1ca4-4ca8-a805-67ee2b99fcab",
   "metadata": {},
   "outputs": [],
   "source": [
    "class PriceHistory():\n",
    "\n",
    "    def __init__(self, symbols: List[str], start_date: str = None, end_date: str = None) -> None:\n",
    "        self._symbols = symbols\n",
    "        self._start_date = start_date if start_date else (datetime.today() - timedelta(weeks=52)).strftime('%Y-%m-%d')\n",
    "        self._end_date = end_date if end_date else datetime.today().strftime('%Y-%m-%d')\n",
    "        self.price_data_frame = self._build_data_frames()\n",
    "\n",
    "    def _build_data_frames(self) -> pd.DataFrame:\n",
    "        all_data = []\n",
    "\n",
    "        # Fetch data for each symbol\n",
    "        for symbol in self._symbols:\n",
    "            data = yf.download(symbol, start=self._start_date, end=self._end_date)\n",
    "            data['Symbol'] = symbol  # Add symbol column\n",
    "            all_data.append(data)\n",
    "\n",
    "        # Concatenate all dataframes into one\n",
    "        price_data_frame = pd.concat(all_data)\n",
    "\n",
    "        # Reset index and convert date to a column\n",
    "        price_data_frame.reset_index(inplace=True)\n",
    "        price_data_frame.rename(columns={'index': 'Date'}, inplace=True)\n",
    "\n",
    "        return price_data_frame\n",
    "        "
   ]
  },
  {
   "cell_type": "code",
   "execution_count": 3,
   "id": "f98c6830-a130-4e1d-85cd-4a81c01a3a9e",
   "metadata": {},
   "outputs": [],
   "source": [
    "# #Example usage:\n",
    "# symbols = ['^NSEI', 'RELIANCE.NS', 'INFY.NS']\n",
    "# price_history = PriceHistory(symbols)\n",
    "# display(price_history.price_data_frame)"
   ]
  },
  {
   "cell_type": "code",
   "execution_count": null,
   "id": "a079d6c9-b11d-4419-91f7-0bec6eac26b6",
   "metadata": {},
   "outputs": [],
   "source": []
  }
 ],
 "metadata": {
  "kernelspec": {
   "display_name": "Python 3 (ipykernel)",
   "language": "python",
   "name": "python3"
  },
  "language_info": {
   "codemirror_mode": {
    "name": "ipython",
    "version": 3
   },
   "file_extension": ".py",
   "mimetype": "text/x-python",
   "name": "python",
   "nbconvert_exporter": "python",
   "pygments_lexer": "ipython3",
   "version": "3.11.8"
  },
  "widgets": {
   "application/vnd.jupyter.widget-state+json": {
    "state": {},
    "version_major": 2,
    "version_minor": 0
   }
  }
 },
 "nbformat": 4,
 "nbformat_minor": 5
}
